{
 "cells": [
  {
   "cell_type": "markdown",
   "id": "5cade262",
   "metadata": {},
   "source": [
    "Styles of Functions"
   ]
  },
  {
   "cell_type": "code",
   "execution_count": 5,
   "id": "29a6496f",
   "metadata": {},
   "outputs": [
    {
     "name": "stdout",
     "output_type": "stream",
     "text": [
      "hello\n"
     ]
    }
   ],
   "source": [
    "print(\"hello\")"
   ]
  },
  {
   "cell_type": "code",
   "execution_count": 16,
   "id": "02baa8e7",
   "metadata": {},
   "outputs": [],
   "source": [
    "def simple():\n",
    "    print(\"merci\")\n"
   ]
  },
  {
   "cell_type": "code",
   "execution_count": null,
   "id": "459bf549",
   "metadata": {},
   "outputs": [
    {
     "name": "stdout",
     "output_type": "stream",
     "text": [
      "<function simple at 0x7be6f4fcb9c0>\n"
     ]
    }
   ],
   "source": [
    "def my_worker(fruit):\n",
    "    statement = f\"My favorite meal is chicken and {fruit}\"\n",
    "    meals = {\"dinner\":statement}"
   ]
  },
  {
   "cell_type": "code",
   "execution_count": 17,
   "id": "c050c144",
   "metadata": {},
   "outputs": [
    {
     "data": {
      "text/plain": [
       "<function __main__.simple()>"
      ]
     },
     "execution_count": 17,
     "metadata": {},
     "output_type": "execute_result"
    }
   ],
   "source": [
    "simple"
   ]
  },
  {
   "cell_type": "code",
   "execution_count": null,
   "id": "e29c7839",
   "metadata": {},
   "outputs": [],
   "source": []
  }
 ],
 "metadata": {
  "kernelspec": {
   "display_name": "Python 3 (ipykernel)",
   "language": "python",
   "name": "python3"
  }
 },
 "nbformat": 4,
 "nbformat_minor": 5
}
